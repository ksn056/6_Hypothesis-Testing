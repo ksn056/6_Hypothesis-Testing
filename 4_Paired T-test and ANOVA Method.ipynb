{
 "cells": [
  {
   "cell_type": "markdown",
   "metadata": {},
   "source": [
    "### Inferential Statistics\n",
    "<h4> Paired T-test and ANOVA Method </h4>\n",
    "\n",
    "How to perform a Paired T-test and use ANOVA method to perform a statistical test."
   ]
  },
  {
   "cell_type": "code",
   "execution_count": 2,
   "metadata": {},
   "outputs": [],
   "source": [
    "\n",
    "import pandas as pd\n",
    "import numpy as np"
   ]
  },
  {
   "cell_type": "code",
   "execution_count": 3,
   "metadata": {},
   "outputs": [],
   "source": [
    "\n",
    "from sklearn.datasets import load_boston\n",
    "from sklearn.utils import shuffle\n",
    "from scipy import stats\n",
    "\n",
    "boston = load_boston()\n",
    "X, y = shuffle(boston.data, boston.target, random_state=13)\n",
    "\n",
    "df = pd.DataFrame(boston.data,columns= boston['feature_names'])\n",
    "df['target'] = boston.target"
   ]
  },
  {
   "cell_type": "markdown",
   "metadata": {},
   "source": [
    "### Paired T-test"
   ]
  },
  {
   "cell_type": "code",
   "execution_count": 4,
   "metadata": {},
   "outputs": [
    {
     "name": "stdout",
     "output_type": "stream",
     "text": [
      "(253, 14) (253, 14)\n"
     ]
    }
   ],
   "source": [
    "\n",
    "low_status = df[df.LSTAT < 11.38]\n",
    "high_status = df[df.LSTAT >= 11.38]\n",
    "print(low_status.shape, high_status.shape)"
   ]
  },
  {
   "cell_type": "code",
   "execution_count": 5,
   "metadata": {},
   "outputs": [
    {
     "name": "stdout",
     "output_type": "stream",
     "text": [
      "count    253.000000\n",
      "mean      28.388142\n",
      "std        8.795621\n",
      "min       11.900000\n",
      "25%       22.300000\n",
      "50%       24.800000\n",
      "75%       32.700000\n",
      "max       50.000000\n",
      "Name: target, dtype: float64\n",
      "count    253.000000\n",
      "mean      16.677470\n",
      "std        4.827435\n",
      "min        5.000000\n",
      "25%       13.400000\n",
      "50%       17.100000\n",
      "75%       20.000000\n",
      "max       30.700000\n",
      "Name: target, dtype: float64\n"
     ]
    }
   ],
   "source": [
    "print(low_status.target.describe())\n",
    "print(high_status.target.describe())"
   ]
  },
  {
   "cell_type": "code",
   "execution_count": 6,
   "metadata": {},
   "outputs": [
    {
     "data": {
      "text/plain": [
       "Ttest_relResult(statistic=19.498536726257928, pvalue=3.016611979260504e-52)"
      ]
     },
     "execution_count": 6,
     "metadata": {},
     "output_type": "execute_result"
    }
   ],
   "source": [
    "stats.ttest_rel(low_status.target, high_status.target)"
   ]
  },
  {
   "cell_type": "markdown",
   "metadata": {},
   "source": [
    "### Analysis of Variance Test (ANOVA)"
   ]
  },
  {
   "cell_type": "code",
   "execution_count": 7,
   "metadata": {},
   "outputs": [
    {
     "name": "stdout",
     "output_type": "stream",
     "text": [
      "(126, 14) (130, 14) (122, 14) (128, 14)\n"
     ]
    }
   ],
   "source": [
    "\n",
    "df1 = df[df['AGE'] < 45]\n",
    "df2 = df[(df['AGE'] >=45) & (df['AGE'] < 78)]\n",
    "df3 = df[(df['AGE'] >= 78) & (df.AGE < 94)]\n",
    "df4 = df[df['AGE'] >= 94]\n",
    "\n",
    "print(df1.shape, df2.shape, df3.shape, df4.shape)"
   ]
  },
  {
   "cell_type": "code",
   "execution_count": 8,
   "metadata": {},
   "outputs": [
    {
     "data": {
      "text/plain": [
       "F_onewayResult(statistic=31.400020638450677, pvalue=1.2883319936208673e-18)"
      ]
     },
     "execution_count": 8,
     "metadata": {},
     "output_type": "execute_result"
    }
   ],
   "source": [
    "stats.f_oneway(df1.target, df2.target, df3.target, df4.target)\n"
   ]
  }
 ],
 "metadata": {
  "kernelspec": {
   "display_name": "Python 3 (ipykernel)",
   "language": "python",
   "name": "python3"
  },
  "language_info": {
   "codemirror_mode": {
    "name": "ipython",
    "version": 3
   },
   "file_extension": ".py",
   "mimetype": "text/x-python",
   "name": "python",
   "nbconvert_exporter": "python",
   "pygments_lexer": "ipython3",
   "version": "3.9.7"
  }
 },
 "nbformat": 4,
 "nbformat_minor": 2
}
